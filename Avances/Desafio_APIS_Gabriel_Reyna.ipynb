{
  "nbformat": 4,
  "nbformat_minor": 0,
  "metadata": {
    "colab": {
      "provenance": []
    },
    "kernelspec": {
      "name": "python3",
      "display_name": "Python 3"
    },
    "language_info": {
      "name": "python"
    }
  },
  "cells": [
    {
      "cell_type": "markdown",
      "source": [
        "**Pagina de donde se obtuvo la API:**\n",
        "\n",
        "https://www.census.gov/\n",
        "\n",
        "Contenido del archivo Json a continuacion se utilizo solo a Puerto Rico, si opto desde EEUU son millones de filas mas y la API no\n",
        "me deja establecer limit ni offset.\n",
        "\n",
        "Por otro lado en el ejemplo traje los datos con Polars y con Pandas. Quisiera con cual trabajar para avanzar sobre esta API."
      ],
      "metadata": {
        "id": "y1nzedP2cCsH"
      }
    },
    {
      "cell_type": "code",
      "source": [
        "import requests\n",
        "import json\n",
        "import pandas as pd\n",
        "import polars as pl"
      ],
      "metadata": {
        "id": "arOIcAbbZUIH"
      },
      "execution_count": 43,
      "outputs": []
    },
    {
      "cell_type": "code",
      "execution_count": 44,
      "metadata": {
        "id": "H4eL0gegZJgq"
      },
      "outputs": [],
      "source": [
        "url = \"https://api.census.gov/data/2021/acs/acs1/pumspr\"\n",
        "\n",
        "params = {\n",
        "    \"get\": \"ACCESSINET,ADJINC,COW,FINCP,MAR,NPF,OIP,PINCP,SCHL,SEX,SEMP\",\n",
        "    \n",
        "    \"key\": \"585a0d5d9dffd8d2de7097296d0c06a3fe1c20d2\",\n",
        "}\n",
        "\n",
        "response = requests.get(url, params=params)\n",
        "data = response.json()"
      ]
    },
    {
      "cell_type": "code",
      "source": [
        "df = pl.from_records(data)\n",
        "print(df)"
      ],
      "metadata": {
        "colab": {
          "base_uri": "https://localhost:8080/"
        },
        "id": "6ymOEnSwZW-z",
        "outputId": "51285d8a-acd7-4a40-93e7-0bdedf390dcf"
      },
      "execution_count": 49,
      "outputs": [
        {
          "output_type": "stream",
          "name": "stdout",
          "text": [
            "shape: (11, 25_910)\n",
            "┌─────────┬──────────┬──────────┬──────────┬───┬────────────┬────────────┬────────────┬────────────┐\n",
            "│ column_ ┆ column_1 ┆ column_2 ┆ column_3 ┆ … ┆ column_259 ┆ column_259 ┆ column_259 ┆ column_259 │\n",
            "│ 0       ┆ ---      ┆ ---      ┆ ---      ┆   ┆ 06         ┆ 07         ┆ 08         ┆ 09         │\n",
            "│ ---     ┆ str      ┆ str      ┆ str      ┆   ┆ ---        ┆ ---        ┆ ---        ┆ ---        │\n",
            "│ str     ┆          ┆          ┆          ┆   ┆ str        ┆ str        ┆ str        ┆ str        │\n",
            "╞═════════╪══════════╪══════════╪══════════╪═══╪════════════╪════════════╪════════════╪════════════╡\n",
            "│ ACCESSI ┆ 0        ┆ 0        ┆ 0        ┆ … ┆ 1          ┆ 1          ┆ 3          ┆ 3          │\n",
            "│ NET     ┆          ┆          ┆          ┆   ┆            ┆            ┆            ┆            │\n",
            "│ ADJINC  ┆ 1.029928 ┆ 1.029928 ┆ 1.029928 ┆ … ┆ 1.029928   ┆ 1.029928   ┆ 1.029928   ┆ 1.029928   │\n",
            "│ COW     ┆ 0        ┆ 0        ┆ 0        ┆ … ┆ 2          ┆ 1          ┆ 0          ┆ 0          │\n",
            "│ FINCP   ┆ -60000   ┆ -60000   ┆ -60000   ┆ … ┆ -60000     ┆ -60000     ┆ -60000     ┆ 6000       │\n",
            "│ …       ┆ …        ┆ …        ┆ …        ┆ … ┆ …          ┆ …          ┆ …          ┆ …          │\n",
            "│ PINCP   ┆ 960      ┆ 0        ┆ 14400    ┆ … ┆ 620        ┆ 27000      ┆ 0          ┆ 3000       │\n",
            "│ SCHL    ┆ 16       ┆ 1        ┆ 22       ┆ … ┆ 21         ┆ 21         ┆ 7          ┆ 19         │\n",
            "│ SEX     ┆ 1        ┆ 2        ┆ 2        ┆ … ┆ 2          ┆ 1          ┆ 1          ┆ 2          │\n",
            "│ SEMP    ┆ 0        ┆ 0        ┆ 0        ┆ … ┆ 0          ┆ 0          ┆ 0          ┆ 0          │\n",
            "└─────────┴──────────┴──────────┴──────────┴───┴────────────┴────────────┴────────────┴────────────┘\n"
          ]
        }
      ]
    },
    {
      "cell_type": "code",
      "source": [
        "#ARCHIVO IMPORTADO POR POLARS\n",
        "df = df.transpose()\n",
        "print(df.head())"
      ],
      "metadata": {
        "colab": {
          "base_uri": "https://localhost:8080/"
        },
        "id": "LS0kPEsYbsJb",
        "outputId": "28dedbb2-4cf0-4268-9afb-0520d1fc966f"
      },
      "execution_count": 46,
      "outputs": [
        {
          "output_type": "stream",
          "name": "stdout",
          "text": [
            "shape: (5, 11)\n",
            "┌────────────┬──────────┬──────────┬──────────┬───┬──────────┬──────────┬──────────┬───────────┐\n",
            "│ column_0   ┆ column_1 ┆ column_2 ┆ column_3 ┆ … ┆ column_7 ┆ column_8 ┆ column_9 ┆ column_10 │\n",
            "│ ---        ┆ ---      ┆ ---      ┆ ---      ┆   ┆ ---      ┆ ---      ┆ ---      ┆ ---       │\n",
            "│ str        ┆ str      ┆ str      ┆ str      ┆   ┆ str      ┆ str      ┆ str      ┆ str       │\n",
            "╞════════════╪══════════╪══════════╪══════════╪═══╪══════════╪══════════╪══════════╪═══════════╡\n",
            "│ ACCESSINET ┆ ADJINC   ┆ COW      ┆ FINCP    ┆ … ┆ PINCP    ┆ SCHL     ┆ SEX      ┆ SEMP      │\n",
            "│ 0          ┆ 1.029928 ┆ 0        ┆ -60000   ┆ … ┆ 960      ┆ 16       ┆ 1        ┆ 0         │\n",
            "│ 0          ┆ 1.029928 ┆ 0        ┆ -60000   ┆ … ┆ 0        ┆ 1        ┆ 2        ┆ 0         │\n",
            "│ 0          ┆ 1.029928 ┆ 0        ┆ -60000   ┆ … ┆ 14400    ┆ 22       ┆ 2        ┆ 0         │\n",
            "│ 0          ┆ 1.029928 ┆ 5        ┆ -60000   ┆ … ┆ 88000    ┆ 19       ┆ 1        ┆ 0         │\n",
            "└────────────┴──────────┴──────────┴──────────┴───┴──────────┴──────────┴──────────┴───────────┘\n"
          ]
        }
      ]
    },
    {
      "cell_type": "code",
      "source": [
        "#ARCHIVO IMPORTADO A PANDAS.\n",
        "df = pd.DataFrame(data[1:], columns=data[0])\n",
        "print(df.head())"
      ],
      "metadata": {
        "colab": {
          "base_uri": "https://localhost:8080/"
        },
        "id": "Z0sOfmgkgdiL",
        "outputId": "6cf9a1c8-b2e0-4a46-e419-9e844d35191a"
      },
      "execution_count": 48,
      "outputs": [
        {
          "output_type": "stream",
          "name": "stdout",
          "text": [
            "  ACCESSINET    ADJINC COW   FINCP MAR NPF OIP  PINCP SCHL SEX SEMP\n",
            "0          0  1.029928   0  -60000   5   1   0    960   16   1    0\n",
            "1          0  1.029928   0  -60000   5   1   0      0    1   2    0\n",
            "2          0  1.029928   0  -60000   2   1   0  14400   22   2    0\n",
            "3          0  1.029928   5  -60000   1   1   0  88000   19   1    0\n",
            "4          0  1.029928   0  -60000   5   1   0      0   12   1    0\n"
          ]
        }
      ]
    },
    {
      "cell_type": "markdown",
      "source": [
        "**Descripcion de las columnas:**\n",
        "\n",
        "**ACCESSINET:** accceso a internet\n",
        "\n",
        "**ADJINC:** factor para ajustar ingresos en dolares\n",
        "\n",
        "**COW:** Clase de trabajo\n",
        "\n",
        "**FINCP:** Ingreso familiar (últimos 12 meses, use para ajustar valores a dólares constantes)\n",
        "\n",
        "**MAR:** Estado civil\n",
        "\n",
        "**NPF:** Numero de personas en la familia\n",
        "\n",
        "**OIP:** otros ingresos en los ultimos 12 meses \n",
        "(use ADJINC to adjust to constant dollars)\n",
        "\n",
        "**PINCP:** Ingreso total de la persona (con firma, use ADJINC para ajustar a dólares constantes)\n",
        "\n",
        "**SCHL:** Nivel de grado que asiste (educacional)\n",
        "\n",
        "**SEX:** SEXO\n",
        "\n",
        "**SEMP:** Ingresos de trabajo por cuenta propia en los últimos 12 meses\n",
        "\n",
        "(La consigna pide 20 columnas, puedo traer mas mediante la API, pero considere estas 10 las mas importantes)\n"
      ],
      "metadata": {
        "id": "fVtjZMzOdwBv"
      }
    },
    {
      "cell_type": "markdown",
      "source": [
        "**Descripcion de las columas de toda la API:**\n",
        "https://api.census.gov/data/2021/acs/acs1/pums/variables.html"
      ],
      "metadata": {
        "id": "y0VerziGevBJ"
      }
    }
  ]
}
